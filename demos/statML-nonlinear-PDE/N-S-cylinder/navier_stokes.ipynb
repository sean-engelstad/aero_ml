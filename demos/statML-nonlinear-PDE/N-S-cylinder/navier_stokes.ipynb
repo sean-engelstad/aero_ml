{
 "cells": [
  {
   "cell_type": "markdown",
   "metadata": {},
   "source": [
    "# StatML - Navier-Stokes for Steady Flow in a Cavity #\n",
    "### Sean Engelstad ###\n",
    "$\\newcommand{\\mb}[1]{\\textbf{#1}}$\n",
    "Let $\\mb{x} = (x, y) \\in \\mathbb{R}^2$. The non-dimensional form of the 2D steady, incompressible Navier-Stokes equations, with $u(\\mb{x}), v(\\mb{x}), p(\\mb{x}) \\in \\mathbb{R}^1$ is the following. The spatial domain is a cavity $\\Omega = (0,1)^2$. Here the Reynolds number is chosen to be $Re = 1$.\n",
    "$$ u \\frac{\\partial u}{\\partial x} + v \\frac{\\partial u}{\\partial y} = - \\frac{\\partial p}{\\partial x} + \\frac{1}{Re} \\Delta u, \\quad \\forall x \\in \\Omega $$\n",
    "$$ u \\frac{\\partial v}{\\partial x} + v \\frac{\\partial v}{\\partial y} = - \\frac{\\partial p}{\\partial y} + \\frac{1}{Re} \\Delta v, \\quad \\forall x \\in \\Omega$$\n",
    "$$ \\frac{\\partial u}{\\partial x} + \\frac{\\partial v}{\\partial y} = 0, \\quad \\forall x \\in \\Omega $$\n",
    "Let curve $C_1$ represent the inner cylinder boundary, $C_2$ represent the upper and lower boundaries and $C_3$ represent the front and back boundaries of the farfield. The boundary conditions are the following on each curve.\n",
    "$$ \\mb{u} \\cdot \\mb{n} = u x + v y = 0; \\; \\frac{\\partial p}{\\partial x_n} = \\frac{\\partial p}{\\partial x} x + \\frac{\\partial p}{\\partial y} y = 0; \\quad \\forall x \\in C_1 $$\n",
    "$$ u = 1, \\quad v = 0, \\quad \n"
   ]
  },
  {
   "cell_type": "code",
   "execution_count": null,
   "metadata": {},
   "outputs": [],
   "source": []
  }
 ],
 "metadata": {
  "kernelspec": {
   "display_name": "Python 3 (ipykernel)",
   "language": "python",
   "name": "python3"
  },
  "language_info": {
   "codemirror_mode": {
    "name": "ipython",
    "version": 3
   },
   "file_extension": ".py",
   "mimetype": "text/x-python",
   "name": "python",
   "nbconvert_exporter": "python",
   "pygments_lexer": "ipython3",
   "version": "3.10.11"
  }
 },
 "nbformat": 4,
 "nbformat_minor": 4
}
